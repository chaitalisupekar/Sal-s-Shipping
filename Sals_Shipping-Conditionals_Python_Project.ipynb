{
 "cells": [
  {
   "cell_type": "markdown",
   "id": "1d2d4b50",
   "metadata": {},
   "source": [
    "## Problem Statement: Ground Shipping - Calculate the price based on weight"
   ]
  },
  {
   "cell_type": "code",
   "execution_count": 12,
   "id": "29ba5534",
   "metadata": {},
   "outputs": [],
   "source": [
    "#Take input from customer in weight\n",
    "weight=31\n"
   ]
  },
  {
   "cell_type": "code",
   "execution_count": 11,
   "id": "04a6c9c6",
   "metadata": {},
   "outputs": [
    {
     "name": "stdout",
     "output_type": "stream",
     "text": [
      "Price based on ground shipping: 167.25\n"
     ]
    }
   ],
   "source": [
    "#Ground shipping costing\n",
    "if weight<=2:\n",
    "    price_ground=20+1.5*weight\n",
    "elif weight>2 and weight<=6:\n",
    "    price_ground=20+3*weight\n",
    "elif weight>6 and weight<=10:\n",
    "    price_ground=20+4*weight\n",
    "else:\n",
    "    price_ground=20+4.75*weight\n",
    "    print('Price based on ground shipping:',price_ground)\n",
    "    \n",
    "    "
   ]
  },
  {
   "cell_type": "code",
   "execution_count": 14,
   "id": "17ae3cc6",
   "metadata": {},
   "outputs": [
    {
     "name": "stdout",
     "output_type": "stream",
     "text": [
      "Price based on drone shipping: 441.75\n"
     ]
    }
   ],
   "source": [
    "#Drone charges\n",
    "\n",
    "if weight<=2:\n",
    "    price_drone=0+1.5*weight*3\n",
    "elif weight>2 and weight<=6:\n",
    "    price_drone=0+3*weight*3\n",
    "elif weight>6 and weight<=10:\n",
    "    price_drone=0+3*4*weight\n",
    "else:\n",
    "    price_drone=3*4.75*weight+0\n",
    "    print('Price based on drone shipping:',price_drone)\n"
   ]
  },
  {
   "cell_type": "code",
   "execution_count": 16,
   "id": "8ff3884b",
   "metadata": {},
   "outputs": [
    {
     "name": "stdout",
     "output_type": "stream",
     "text": [
      "Use premium\n"
     ]
    }
   ],
   "source": [
    "# premium charges is $125\n",
    "premium=125\n",
    "if price_drone<price_ground and price_drone<premium:\n",
    "    print('Use Drone Shipping')\n",
    "elif price_ground<price_drone and price_ground<premium:\n",
    "    print('Use ground shipping')\n",
    "else:\n",
    "    print('Use premium')"
   ]
  }
 ],
 "metadata": {
  "kernelspec": {
   "display_name": "Python 3 (ipykernel)",
   "language": "python",
   "name": "python3"
  },
  "language_info": {
   "codemirror_mode": {
    "name": "ipython",
    "version": 3
   },
   "file_extension": ".py",
   "mimetype": "text/x-python",
   "name": "python",
   "nbconvert_exporter": "python",
   "pygments_lexer": "ipython3",
   "version": "3.9.12"
  }
 },
 "nbformat": 4,
 "nbformat_minor": 5
}
